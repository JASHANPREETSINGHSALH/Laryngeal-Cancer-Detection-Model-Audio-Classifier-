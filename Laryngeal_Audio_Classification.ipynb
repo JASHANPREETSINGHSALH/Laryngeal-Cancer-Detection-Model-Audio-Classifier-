{
 "cells": [
  {
   "cell_type": "code",
   "execution_count": 1,
   "id": "7a0321f4-57d1-445d-90f4-de186f81e14d",
   "metadata": {},
   "outputs": [],
   "source": [
    "import os\n",
    "import librosa\n",
    "import numpy as np\n",
    "import pandas as pd\n",
    "from tqdm import tqdm\n",
    "np.random.seed(0)"
   ]
  },
  {
   "cell_type": "markdown",
   "id": "80c4bc89-79d5-4b1f-b91d-9b1aa6974e25",
   "metadata": {},
   "source": [
    "# Data Preprocessing"
   ]
  },
  {
   "cell_type": "markdown",
   "id": "34a87df0-d132-4881-972b-f6d0594bb61b",
   "metadata": {},
   "source": [
    "#### Data Augmentation and Feature Extraction (using MFCC)"
   ]
  },
  {
   "cell_type": "code",
   "execution_count": 2,
   "id": "9b012a42-6468-4806-9854-854025838ac5",
   "metadata": {},
   "outputs": [],
   "source": [
    "# Function to extract MFCC features\n",
    "def extract_mfcc(file_path, augmentation=False):\n",
    "    # Load audio file\n",
    "    audio_data, sr = librosa.load(file_path, sr=None)\n",
    "    \n",
    "    # Apply augmentation if specified\n",
    "    if augmentation:\n",
    "        # Example: Time stretching\n",
    "        audio_data_augmented = librosa.effects.time_stretch(audio_data, rate = 0.8 )#rate = np.random.uniform(0.8, 1.2))\n",
    "        \n",
    "        # Example: Pitch shifting (random shift between -2 to 2 semitones)\n",
    "        #audio_data_augmented = librosa.effects.pitch_shift(audio_data_stretched, sr=sr,n_steps=np.random.uniform(-2, 2))\n",
    "    else:\n",
    "        audio_data_augmented = audio_data\n",
    "        \n",
    "    mfccs = librosa.feature.mfcc(y=audio_data_augmented, sr=sr, n_mfcc=40)\n",
    "    mfccs = np.mean(mfccs.T, axis=0)  # Taking mean of MFCCs\n",
    "    return mfccs"
   ]
  },
  {
   "cell_type": "code",
   "execution_count": 3,
   "id": "40e2475a-f6a3-4ef8-b2fb-8cfac57cc10b",
   "metadata": {},
   "outputs": [
    {
     "name": "stderr",
     "output_type": "stream",
     "text": [
      "Processing healthy files: 100%|██████████████████████████████████████████████████████| 148/148 [00:07<00:00, 19.01it/s]\n",
      "Processing stimmlippenkarzinom files: 100%|████████████████████████████████████████████| 84/84 [00:02<00:00, 29.69it/s]\n"
     ]
    }
   ],
   "source": [
    "# Path to the dataset folder\n",
    "dataset_path = 'datasets'\n",
    "\n",
    "# Lists to hold features(Original+Agumented) and features_original\n",
    "features = []\n",
    "features_original = []\n",
    "\n",
    "# Loop through each folder and file\n",
    "for label in ['healthy', 'stimmlippenkarzinom']:\n",
    "    folder_path = os.path.join(dataset_path, label)\n",
    "    files = [file for file in os.listdir(folder_path) if file.endswith('.wav')]\n",
    "    for file_name in tqdm(files, desc=f'Processing {label} files'):\n",
    "        file_path = os.path.join(folder_path, file_name)\n",
    "        # Extract original MFCC features\n",
    "        mfccs_original = extract_mfcc(file_path, augmentation=False)\n",
    "        features_original.append([mfccs_original, label])\n",
    "        features.append([mfccs_original, label])\n",
    "        \n",
    "        # Extract augmented MFCC features\n",
    "        mfccs_augmented = extract_mfcc(file_path, augmentation=True)\n",
    "        features.append([mfccs_augmented, label])"
   ]
  },
  {
   "cell_type": "markdown",
   "id": "62265808-edc3-4784-ad12-d86e6b720f86",
   "metadata": {},
   "source": [
    "#### DataFrame of original features"
   ]
  },
  {
   "cell_type": "code",
   "execution_count": 4,
   "id": "5e97a718-c990-41ce-972f-550dc8e08471",
   "metadata": {},
   "outputs": [
    {
     "data": {
      "text/html": [
       "<div>\n",
       "<style scoped>\n",
       "    .dataframe tbody tr th:only-of-type {\n",
       "        vertical-align: middle;\n",
       "    }\n",
       "\n",
       "    .dataframe tbody tr th {\n",
       "        vertical-align: top;\n",
       "    }\n",
       "\n",
       "    .dataframe thead th {\n",
       "        text-align: right;\n",
       "    }\n",
       "</style>\n",
       "<table border=\"1\" class=\"dataframe\">\n",
       "  <thead>\n",
       "    <tr style=\"text-align: right;\">\n",
       "      <th></th>\n",
       "      <th>feature</th>\n",
       "      <th>class</th>\n",
       "    </tr>\n",
       "  </thead>\n",
       "  <tbody>\n",
       "    <tr>\n",
       "      <th>0</th>\n",
       "      <td>[-248.99207, 237.56853, -1.1738869, -11.471321...</td>\n",
       "      <td>healthy</td>\n",
       "    </tr>\n",
       "    <tr>\n",
       "      <th>1</th>\n",
       "      <td>[-252.30412, 253.97157, 20.097445, -6.105489, ...</td>\n",
       "      <td>healthy</td>\n",
       "    </tr>\n",
       "    <tr>\n",
       "      <th>2</th>\n",
       "      <td>[-227.89868, 244.99779, 10.715789, -5.6922073,...</td>\n",
       "      <td>healthy</td>\n",
       "    </tr>\n",
       "    <tr>\n",
       "      <th>3</th>\n",
       "      <td>[-210.71898, 251.33025, 23.069086, 2.5758412, ...</td>\n",
       "      <td>healthy</td>\n",
       "    </tr>\n",
       "    <tr>\n",
       "      <th>4</th>\n",
       "      <td>[-364.6534, 190.22061, 49.5106, 24.282656, -2....</td>\n",
       "      <td>healthy</td>\n",
       "    </tr>\n",
       "    <tr>\n",
       "      <th>...</th>\n",
       "      <td>...</td>\n",
       "      <td>...</td>\n",
       "    </tr>\n",
       "    <tr>\n",
       "      <th>227</th>\n",
       "      <td>[-181.0966, 154.76138, 29.76749, 61.42796, -36...</td>\n",
       "      <td>stimmlippenkarzinom</td>\n",
       "    </tr>\n",
       "    <tr>\n",
       "      <th>228</th>\n",
       "      <td>[-206.923, 152.67967, -27.04416, 24.996017, -3...</td>\n",
       "      <td>stimmlippenkarzinom</td>\n",
       "    </tr>\n",
       "    <tr>\n",
       "      <th>229</th>\n",
       "      <td>[-245.24911, 186.41487, 18.660599, 33.401836, ...</td>\n",
       "      <td>stimmlippenkarzinom</td>\n",
       "    </tr>\n",
       "    <tr>\n",
       "      <th>230</th>\n",
       "      <td>[-206.56386, 186.28462, -5.379292, 24.425085, ...</td>\n",
       "      <td>stimmlippenkarzinom</td>\n",
       "    </tr>\n",
       "    <tr>\n",
       "      <th>231</th>\n",
       "      <td>[-230.50331, 176.82268, 3.7989209, 40.36804, -...</td>\n",
       "      <td>stimmlippenkarzinom</td>\n",
       "    </tr>\n",
       "  </tbody>\n",
       "</table>\n",
       "<p>232 rows × 2 columns</p>\n",
       "</div>"
      ],
      "text/plain": [
       "                                               feature                class\n",
       "0    [-248.99207, 237.56853, -1.1738869, -11.471321...              healthy\n",
       "1    [-252.30412, 253.97157, 20.097445, -6.105489, ...              healthy\n",
       "2    [-227.89868, 244.99779, 10.715789, -5.6922073,...              healthy\n",
       "3    [-210.71898, 251.33025, 23.069086, 2.5758412, ...              healthy\n",
       "4    [-364.6534, 190.22061, 49.5106, 24.282656, -2....              healthy\n",
       "..                                                 ...                  ...\n",
       "227  [-181.0966, 154.76138, 29.76749, 61.42796, -36...  stimmlippenkarzinom\n",
       "228  [-206.923, 152.67967, -27.04416, 24.996017, -3...  stimmlippenkarzinom\n",
       "229  [-245.24911, 186.41487, 18.660599, 33.401836, ...  stimmlippenkarzinom\n",
       "230  [-206.56386, 186.28462, -5.379292, 24.425085, ...  stimmlippenkarzinom\n",
       "231  [-230.50331, 176.82268, 3.7989209, 40.36804, -...  stimmlippenkarzinom\n",
       "\n",
       "[232 rows x 2 columns]"
      ]
     },
     "execution_count": 4,
     "metadata": {},
     "output_type": "execute_result"
    }
   ],
   "source": [
    "# Create a DataFrame of original features\n",
    "df_original = pd.DataFrame(features_original,columns=['feature','class'])\n",
    "df_original"
   ]
  },
  {
   "cell_type": "code",
   "execution_count": 5,
   "id": "8d8e511a-1635-4130-8bfa-1d2540092795",
   "metadata": {},
   "outputs": [],
   "source": [
    "X=np.array(df_original['feature'].tolist())\n",
    "y=np.array(df_original['class'].tolist())\n",
    "y=np.array(pd.get_dummies(y,drop_first=True))"
   ]
  },
  {
   "cell_type": "markdown",
   "id": "247c4591-3bb2-4224-9b83-b2fc7557aff2",
   "metadata": {},
   "source": [
    "#### Split Original Dataset to store Unseen data for evaluation later"
   ]
  },
  {
   "cell_type": "code",
   "execution_count": 6,
   "id": "d359f4a8-c662-485f-8ad6-6c706959fd13",
   "metadata": {},
   "outputs": [
    {
     "name": "stdout",
     "output_type": "stream",
     "text": [
      "X_test_original shape:  (93, 40)\n",
      "y_test_original shape:  (93, 1)\n"
     ]
    }
   ],
   "source": [
    "#Keeping some of the unseen test data (without Agumentation) for evaluating the model\n",
    "from sklearn.model_selection import train_test_split\n",
    "X_train_original,X_test_original,y_train_original,y_test_original=train_test_split(X, y, test_size=0.4, stratify=y, random_state=1)\n",
    "print(\"X_test_original shape: \",X_test_original.shape)\n",
    "print(\"y_test_original shape: \",y_test_original.shape)"
   ]
  },
  {
   "cell_type": "markdown",
   "id": "ee26c276-665d-406e-87b4-64e7ef3b4032",
   "metadata": {},
   "source": [
    "#### DataFrame of features including both Original and Agumented data"
   ]
  },
  {
   "cell_type": "code",
   "execution_count": 7,
   "id": "7d9d1f59-84b0-4908-b34e-76457444db60",
   "metadata": {},
   "outputs": [
    {
     "data": {
      "text/html": [
       "<div>\n",
       "<style scoped>\n",
       "    .dataframe tbody tr th:only-of-type {\n",
       "        vertical-align: middle;\n",
       "    }\n",
       "\n",
       "    .dataframe tbody tr th {\n",
       "        vertical-align: top;\n",
       "    }\n",
       "\n",
       "    .dataframe thead th {\n",
       "        text-align: right;\n",
       "    }\n",
       "</style>\n",
       "<table border=\"1\" class=\"dataframe\">\n",
       "  <thead>\n",
       "    <tr style=\"text-align: right;\">\n",
       "      <th></th>\n",
       "      <th>feature</th>\n",
       "      <th>class</th>\n",
       "    </tr>\n",
       "  </thead>\n",
       "  <tbody>\n",
       "    <tr>\n",
       "      <th>0</th>\n",
       "      <td>[-248.99207, 237.56853, -1.1738869, -11.471321...</td>\n",
       "      <td>healthy</td>\n",
       "    </tr>\n",
       "    <tr>\n",
       "      <th>1</th>\n",
       "      <td>[-290.71387, 236.69287, 4.033228, -4.72829, -1...</td>\n",
       "      <td>healthy</td>\n",
       "    </tr>\n",
       "    <tr>\n",
       "      <th>2</th>\n",
       "      <td>[-252.30412, 253.97157, 20.097445, -6.105489, ...</td>\n",
       "      <td>healthy</td>\n",
       "    </tr>\n",
       "    <tr>\n",
       "      <th>3</th>\n",
       "      <td>[-284.68875, 254.85313, 28.576492, -3.73867, -...</td>\n",
       "      <td>healthy</td>\n",
       "    </tr>\n",
       "    <tr>\n",
       "      <th>4</th>\n",
       "      <td>[-227.89868, 244.99779, 10.715789, -5.6922073,...</td>\n",
       "      <td>healthy</td>\n",
       "    </tr>\n",
       "    <tr>\n",
       "      <th>...</th>\n",
       "      <td>...</td>\n",
       "      <td>...</td>\n",
       "    </tr>\n",
       "    <tr>\n",
       "      <th>459</th>\n",
       "      <td>[-280.3617, 185.26508, 24.378874, 34.139507, -...</td>\n",
       "      <td>stimmlippenkarzinom</td>\n",
       "    </tr>\n",
       "    <tr>\n",
       "      <th>460</th>\n",
       "      <td>[-206.56386, 186.28462, -5.379292, 24.425085, ...</td>\n",
       "      <td>stimmlippenkarzinom</td>\n",
       "    </tr>\n",
       "    <tr>\n",
       "      <th>461</th>\n",
       "      <td>[-244.44865, 181.889, -2.1053293, 24.567722, -...</td>\n",
       "      <td>stimmlippenkarzinom</td>\n",
       "    </tr>\n",
       "    <tr>\n",
       "      <th>462</th>\n",
       "      <td>[-230.50331, 176.82268, 3.7989209, 40.36804, -...</td>\n",
       "      <td>stimmlippenkarzinom</td>\n",
       "    </tr>\n",
       "    <tr>\n",
       "      <th>463</th>\n",
       "      <td>[-264.26416, 174.6955, 11.121916, 41.2874, -12...</td>\n",
       "      <td>stimmlippenkarzinom</td>\n",
       "    </tr>\n",
       "  </tbody>\n",
       "</table>\n",
       "<p>464 rows × 2 columns</p>\n",
       "</div>"
      ],
      "text/plain": [
       "                                               feature                class\n",
       "0    [-248.99207, 237.56853, -1.1738869, -11.471321...              healthy\n",
       "1    [-290.71387, 236.69287, 4.033228, -4.72829, -1...              healthy\n",
       "2    [-252.30412, 253.97157, 20.097445, -6.105489, ...              healthy\n",
       "3    [-284.68875, 254.85313, 28.576492, -3.73867, -...              healthy\n",
       "4    [-227.89868, 244.99779, 10.715789, -5.6922073,...              healthy\n",
       "..                                                 ...                  ...\n",
       "459  [-280.3617, 185.26508, 24.378874, 34.139507, -...  stimmlippenkarzinom\n",
       "460  [-206.56386, 186.28462, -5.379292, 24.425085, ...  stimmlippenkarzinom\n",
       "461  [-244.44865, 181.889, -2.1053293, 24.567722, -...  stimmlippenkarzinom\n",
       "462  [-230.50331, 176.82268, 3.7989209, 40.36804, -...  stimmlippenkarzinom\n",
       "463  [-264.26416, 174.6955, 11.121916, 41.2874, -12...  stimmlippenkarzinom\n",
       "\n",
       "[464 rows x 2 columns]"
      ]
     },
     "execution_count": 7,
     "metadata": {},
     "output_type": "execute_result"
    }
   ],
   "source": [
    "# Create a DataFrame of features including both Original + Agumented\n",
    "df = pd.DataFrame(features,columns=['feature','class'])\n",
    "\n",
    "# Display the DataFrame\n",
    "df"
   ]
  },
  {
   "cell_type": "code",
   "execution_count": 8,
   "id": "b933d52a-e147-4ad6-a99d-3b4114237b6c",
   "metadata": {},
   "outputs": [
    {
     "name": "stdout",
     "output_type": "stream",
     "text": [
      "<class 'pandas.core.frame.DataFrame'>\n",
      "RangeIndex: 464 entries, 0 to 463\n",
      "Data columns (total 2 columns):\n",
      " #   Column   Non-Null Count  Dtype \n",
      "---  ------   --------------  ----- \n",
      " 0   feature  464 non-null    object\n",
      " 1   class    464 non-null    object\n",
      "dtypes: object(2)\n",
      "memory usage: 7.4+ KB\n"
     ]
    }
   ],
   "source": [
    "df.info()"
   ]
  },
  {
   "cell_type": "code",
   "execution_count": 9,
   "id": "d57026c6-de24-4f6e-918f-722c7898e314",
   "metadata": {},
   "outputs": [],
   "source": [
    "X=np.array(df['feature'].tolist())\n",
    "y=np.array(df['class'].tolist())"
   ]
  },
  {
   "cell_type": "code",
   "execution_count": 10,
   "id": "32bfd314-d24d-4d67-bf8e-0a38689c253e",
   "metadata": {},
   "outputs": [
    {
     "data": {
      "text/plain": [
       "(464, 40)"
      ]
     },
     "execution_count": 10,
     "metadata": {},
     "output_type": "execute_result"
    }
   ],
   "source": [
    "X.shape"
   ]
  },
  {
   "cell_type": "code",
   "execution_count": 11,
   "id": "141cd70a-cb17-4929-9907-d03f233fc9bc",
   "metadata": {},
   "outputs": [],
   "source": [
    "y=np.array(pd.get_dummies(y,drop_first=True))"
   ]
  },
  {
   "cell_type": "code",
   "execution_count": 12,
   "id": "5e6b45bb-8662-4c89-a52d-edc68e0da0df",
   "metadata": {},
   "outputs": [
    {
     "data": {
      "text/plain": [
       "(464, 1)"
      ]
     },
     "execution_count": 12,
     "metadata": {},
     "output_type": "execute_result"
    }
   ],
   "source": [
    "y.shape"
   ]
  },
  {
   "cell_type": "markdown",
   "id": "fde3e3b8-b61a-437c-86e2-19b435bd9f30",
   "metadata": {},
   "source": [
    "#### Split the dataset for model training"
   ]
  },
  {
   "cell_type": "code",
   "execution_count": 13,
   "id": "e970bbbd-79d9-49f7-873b-34f7ca6bdb4f",
   "metadata": {},
   "outputs": [],
   "source": [
    "from sklearn.model_selection import train_test_split\n",
    "X_train,X_test,y_train,y_test=train_test_split(X, y, test_size=0.2, stratify=y, random_state=1)"
   ]
  },
  {
   "cell_type": "code",
   "execution_count": 14,
   "id": "62aa2f02-1b10-4164-bd3d-aca229a57a6a",
   "metadata": {},
   "outputs": [
    {
     "name": "stdout",
     "output_type": "stream",
     "text": [
      "X_train shape:  (371, 40)\n",
      "X_test shape:  (93, 40)\n",
      "y_train shape:  (371, 1)\n",
      "y_test shape:  (93, 1)\n"
     ]
    }
   ],
   "source": [
    "print(\"X_train shape: \",X_train.shape)\n",
    "print(\"X_test shape: \",X_test.shape)\n",
    "print(\"y_train shape: \",y_train.shape)\n",
    "print(\"y_test shape: \",y_test.shape)"
   ]
  },
  {
   "cell_type": "markdown",
   "id": "6c133c15-0b82-444d-9d68-5fdebbcb8baf",
   "metadata": {},
   "source": [
    "# Model Creation"
   ]
  },
  {
   "cell_type": "code",
   "execution_count": 15,
   "id": "6f5b2028-5acb-44d4-8585-535182ff2a56",
   "metadata": {},
   "outputs": [
    {
     "name": "stdout",
     "output_type": "stream",
     "text": [
      "WARNING:tensorflow:From C:\\Anaconda\\Lib\\site-packages\\keras\\src\\losses.py:2976: The name tf.losses.sparse_softmax_cross_entropy is deprecated. Please use tf.compat.v1.losses.sparse_softmax_cross_entropy instead.\n",
      "\n"
     ]
    }
   ],
   "source": [
    "import tensorflow as tf\n",
    "from tensorflow.keras.models import Sequential\n",
    "from tensorflow.keras.layers import Dense,Dropout,Activation,Flatten\n",
    "from tensorflow.keras.optimizers import Adam\n",
    "from sklearn import metrics\n",
    "tf.random.set_seed(0)"
   ]
  },
  {
   "cell_type": "code",
   "execution_count": 16,
   "id": "0c0749e0-446a-428d-a0c5-f40e32110907",
   "metadata": {},
   "outputs": [
    {
     "name": "stdout",
     "output_type": "stream",
     "text": [
      "WARNING:tensorflow:From C:\\Anaconda\\Lib\\site-packages\\keras\\src\\backend.py:873: The name tf.get_default_graph is deprecated. Please use tf.compat.v1.get_default_graph instead.\n",
      "\n"
     ]
    }
   ],
   "source": [
    "model=Sequential()\n",
    "#first layer\n",
    "model.add(Dense(124,input_shape=(40,)))\n",
    "model.add(Activation('relu'))\n",
    "model.add(Dropout(0.5))\n",
    "\n",
    "#second layer\n",
    "model.add(Dense(64))\n",
    "model.add(Activation('relu'))\n",
    "model.add(Dropout(0.5))\n",
    "\n",
    "#third layer\n",
    "model.add(Dense(32))\n",
    "model.add(Activation('relu'))\n",
    "model.add(Dropout(0.5))\n",
    "\n",
    "#final layer\n",
    "model.add(Dense(1))\n",
    "model.add(Activation('sigmoid'))"
   ]
  },
  {
   "cell_type": "code",
   "execution_count": 17,
   "id": "a98571ef-e852-45dd-a53f-1297f61006ea",
   "metadata": {
    "scrolled": true
   },
   "outputs": [
    {
     "name": "stdout",
     "output_type": "stream",
     "text": [
      "Model: \"sequential\"\n",
      "_________________________________________________________________\n",
      " Layer (type)                Output Shape              Param #   \n",
      "=================================================================\n",
      " dense (Dense)               (None, 124)               5084      \n",
      "                                                                 \n",
      " activation (Activation)     (None, 124)               0         \n",
      "                                                                 \n",
      " dropout (Dropout)           (None, 124)               0         \n",
      "                                                                 \n",
      " dense_1 (Dense)             (None, 64)                8000      \n",
      "                                                                 \n",
      " activation_1 (Activation)   (None, 64)                0         \n",
      "                                                                 \n",
      " dropout_1 (Dropout)         (None, 64)                0         \n",
      "                                                                 \n",
      " dense_2 (Dense)             (None, 32)                2080      \n",
      "                                                                 \n",
      " activation_2 (Activation)   (None, 32)                0         \n",
      "                                                                 \n",
      " dropout_2 (Dropout)         (None, 32)                0         \n",
      "                                                                 \n",
      " dense_3 (Dense)             (None, 1)                 33        \n",
      "                                                                 \n",
      " activation_3 (Activation)   (None, 1)                 0         \n",
      "                                                                 \n",
      "=================================================================\n",
      "Total params: 15197 (59.36 KB)\n",
      "Trainable params: 15197 (59.36 KB)\n",
      "Non-trainable params: 0 (0.00 Byte)\n",
      "_________________________________________________________________\n"
     ]
    }
   ],
   "source": [
    "model.summary()"
   ]
  },
  {
   "cell_type": "code",
   "execution_count": 18,
   "id": "b7441c0b-d587-4cda-ab37-85700028e9f7",
   "metadata": {},
   "outputs": [
    {
     "name": "stdout",
     "output_type": "stream",
     "text": [
      "WARNING:tensorflow:From C:\\Anaconda\\Lib\\site-packages\\keras\\src\\optimizers\\__init__.py:309: The name tf.train.Optimizer is deprecated. Please use tf.compat.v1.train.Optimizer instead.\n",
      "\n"
     ]
    }
   ],
   "source": [
    "model.compile(optimizer='adam', loss='binary_crossentropy', metrics=['accuracy'])"
   ]
  },
  {
   "cell_type": "code",
   "execution_count": 19,
   "id": "488c121b-ac4d-4a4e-bbd9-20db475a2efe",
   "metadata": {},
   "outputs": [],
   "source": [
    "from tensorflow.keras.callbacks import ModelCheckpoint\n",
    "from datetime import datetime"
   ]
  },
  {
   "cell_type": "code",
   "execution_count": 20,
   "id": "e0d430a7-af0f-4527-96ed-bd0612182ebc",
   "metadata": {},
   "outputs": [
    {
     "name": "stdout",
     "output_type": "stream",
     "text": [
      "Epoch 1/150\n",
      "WARNING:tensorflow:From C:\\Anaconda\\Lib\\site-packages\\keras\\src\\utils\\tf_utils.py:492: The name tf.ragged.RaggedTensorValue is deprecated. Please use tf.compat.v1.ragged.RaggedTensorValue instead.\n",
      "\n",
      "WARNING:tensorflow:From C:\\Anaconda\\Lib\\site-packages\\keras\\src\\engine\\base_layer_utils.py:384: The name tf.executing_eagerly_outside_functions is deprecated. Please use tf.compat.v1.executing_eagerly_outside_functions instead.\n",
      "\n",
      "12/12 [==============================] - 1s 19ms/step - loss: 17.3746 - accuracy: 0.5660 - val_loss: 4.1452 - val_accuracy: 0.6452\n",
      "Epoch 2/150\n",
      "12/12 [==============================] - 0s 5ms/step - loss: 12.5651 - accuracy: 0.5741 - val_loss: 2.6641 - val_accuracy: 0.6452\n",
      "Epoch 3/150\n",
      "12/12 [==============================] - 0s 4ms/step - loss: 10.1982 - accuracy: 0.5418 - val_loss: 1.4896 - val_accuracy: 0.6344\n",
      "Epoch 4/150\n",
      "12/12 [==============================] - 0s 5ms/step - loss: 7.6564 - accuracy: 0.5687 - val_loss: 1.2304 - val_accuracy: 0.6344\n",
      "Epoch 5/150\n",
      "12/12 [==============================] - 0s 5ms/step - loss: 6.6579 - accuracy: 0.5660 - val_loss: 1.1840 - val_accuracy: 0.6344\n",
      "Epoch 6/150\n",
      "12/12 [==============================] - 0s 5ms/step - loss: 5.8856 - accuracy: 0.5337 - val_loss: 1.1498 - val_accuracy: 0.6237\n",
      "Epoch 7/150\n",
      "12/12 [==============================] - 0s 4ms/step - loss: 4.6446 - accuracy: 0.5822 - val_loss: 1.0630 - val_accuracy: 0.6237\n",
      "Epoch 8/150\n",
      "12/12 [==============================] - 0s 5ms/step - loss: 4.2736 - accuracy: 0.6092 - val_loss: 0.8185 - val_accuracy: 0.6344\n",
      "Epoch 9/150\n",
      "12/12 [==============================] - 0s 6ms/step - loss: 3.4429 - accuracy: 0.6038 - val_loss: 0.6035 - val_accuracy: 0.7204\n",
      "Epoch 10/150\n",
      "12/12 [==============================] - 0s 6ms/step - loss: 3.6777 - accuracy: 0.5633 - val_loss: 0.5710 - val_accuracy: 0.7097\n",
      "Epoch 11/150\n",
      "12/12 [==============================] - 0s 6ms/step - loss: 2.8585 - accuracy: 0.6173 - val_loss: 0.5610 - val_accuracy: 0.6882\n",
      "Epoch 12/150\n",
      "12/12 [==============================] - 0s 6ms/step - loss: 2.3647 - accuracy: 0.6173 - val_loss: 0.5191 - val_accuracy: 0.7312\n",
      "Epoch 13/150\n",
      "12/12 [==============================] - 0s 5ms/step - loss: 2.4286 - accuracy: 0.5822 - val_loss: 0.4986 - val_accuracy: 0.7634\n",
      "Epoch 14/150\n",
      "12/12 [==============================] - 0s 6ms/step - loss: 2.5448 - accuracy: 0.5876 - val_loss: 0.5028 - val_accuracy: 0.7419\n",
      "Epoch 15/150\n",
      "12/12 [==============================] - 0s 6ms/step - loss: 2.3861 - accuracy: 0.5822 - val_loss: 0.4583 - val_accuracy: 0.7849\n",
      "Epoch 16/150\n",
      "12/12 [==============================] - 0s 5ms/step - loss: 2.0198 - accuracy: 0.5957 - val_loss: 0.4333 - val_accuracy: 0.7849\n",
      "Epoch 17/150\n",
      "12/12 [==============================] - 0s 5ms/step - loss: 1.8387 - accuracy: 0.6065 - val_loss: 0.4440 - val_accuracy: 0.7849\n",
      "Epoch 18/150\n",
      "12/12 [==============================] - 0s 5ms/step - loss: 1.7430 - accuracy: 0.6038 - val_loss: 0.4355 - val_accuracy: 0.8280\n",
      "Epoch 19/150\n",
      "12/12 [==============================] - 0s 5ms/step - loss: 1.6601 - accuracy: 0.6065 - val_loss: 0.4588 - val_accuracy: 0.8065\n",
      "Epoch 20/150\n",
      "12/12 [==============================] - 0s 5ms/step - loss: 1.6720 - accuracy: 0.5687 - val_loss: 0.4682 - val_accuracy: 0.7957\n",
      "Epoch 21/150\n",
      "12/12 [==============================] - 0s 4ms/step - loss: 1.5595 - accuracy: 0.6280 - val_loss: 0.4468 - val_accuracy: 0.7957\n",
      "Epoch 22/150\n",
      "12/12 [==============================] - 0s 5ms/step - loss: 1.3799 - accuracy: 0.6146 - val_loss: 0.4404 - val_accuracy: 0.8065\n",
      "Epoch 23/150\n",
      "12/12 [==============================] - 0s 4ms/step - loss: 1.3171 - accuracy: 0.6119 - val_loss: 0.4418 - val_accuracy: 0.8065\n",
      "Epoch 24/150\n",
      "12/12 [==============================] - 0s 4ms/step - loss: 1.3403 - accuracy: 0.5984 - val_loss: 0.4601 - val_accuracy: 0.7742\n",
      "Epoch 25/150\n",
      "12/12 [==============================] - 0s 4ms/step - loss: 1.2433 - accuracy: 0.5795 - val_loss: 0.4666 - val_accuracy: 0.7634\n",
      "Epoch 26/150\n",
      "12/12 [==============================] - 0s 4ms/step - loss: 1.0090 - accuracy: 0.6550 - val_loss: 0.4807 - val_accuracy: 0.7957\n",
      "Epoch 27/150\n",
      "12/12 [==============================] - 0s 5ms/step - loss: 1.1457 - accuracy: 0.6846 - val_loss: 0.4840 - val_accuracy: 0.7957\n",
      "Epoch 28/150\n",
      "12/12 [==============================] - 0s 6ms/step - loss: 0.7450 - accuracy: 0.7062 - val_loss: 0.4773 - val_accuracy: 0.8280\n",
      "Epoch 29/150\n",
      "12/12 [==============================] - 0s 6ms/step - loss: 1.0057 - accuracy: 0.6307 - val_loss: 0.4567 - val_accuracy: 0.8065\n",
      "Epoch 30/150\n",
      "12/12 [==============================] - 0s 6ms/step - loss: 0.9176 - accuracy: 0.6954 - val_loss: 0.4611 - val_accuracy: 0.8387\n",
      "Epoch 31/150\n",
      "12/12 [==============================] - 0s 5ms/step - loss: 0.8141 - accuracy: 0.6388 - val_loss: 0.4706 - val_accuracy: 0.8710\n",
      "Epoch 32/150\n",
      "12/12 [==============================] - 0s 6ms/step - loss: 0.7838 - accuracy: 0.7008 - val_loss: 0.4422 - val_accuracy: 0.8925\n",
      "Epoch 33/150\n",
      "12/12 [==============================] - 0s 6ms/step - loss: 0.8332 - accuracy: 0.6496 - val_loss: 0.4518 - val_accuracy: 0.9140\n",
      "Epoch 34/150\n",
      "12/12 [==============================] - 0s 6ms/step - loss: 0.7479 - accuracy: 0.6685 - val_loss: 0.4482 - val_accuracy: 0.9032\n",
      "Epoch 35/150\n",
      "12/12 [==============================] - 0s 6ms/step - loss: 0.7887 - accuracy: 0.6873 - val_loss: 0.4392 - val_accuracy: 0.9140\n",
      "Epoch 36/150\n",
      "12/12 [==============================] - 0s 5ms/step - loss: 0.7961 - accuracy: 0.6927 - val_loss: 0.4625 - val_accuracy: 0.8925\n",
      "Epoch 37/150\n",
      "12/12 [==============================] - 0s 5ms/step - loss: 0.6565 - accuracy: 0.6954 - val_loss: 0.4693 - val_accuracy: 0.9032\n",
      "Epoch 38/150\n",
      "12/12 [==============================] - 0s 5ms/step - loss: 0.6128 - accuracy: 0.7332 - val_loss: 0.4476 - val_accuracy: 0.9032\n",
      "Epoch 39/150\n",
      "12/12 [==============================] - 0s 5ms/step - loss: 0.6866 - accuracy: 0.7035 - val_loss: 0.4397 - val_accuracy: 0.9247\n",
      "Epoch 40/150\n",
      "12/12 [==============================] - 0s 5ms/step - loss: 0.6458 - accuracy: 0.7035 - val_loss: 0.4253 - val_accuracy: 0.9462\n",
      "Epoch 41/150\n",
      "12/12 [==============================] - 0s 5ms/step - loss: 0.7239 - accuracy: 0.7197 - val_loss: 0.3978 - val_accuracy: 0.9462\n",
      "Epoch 42/150\n",
      "12/12 [==============================] - 0s 5ms/step - loss: 0.6575 - accuracy: 0.7655 - val_loss: 0.3882 - val_accuracy: 0.9462\n",
      "Epoch 43/150\n",
      "12/12 [==============================] - 0s 5ms/step - loss: 0.5891 - accuracy: 0.7547 - val_loss: 0.3873 - val_accuracy: 0.9462\n",
      "Epoch 44/150\n",
      "12/12 [==============================] - 0s 5ms/step - loss: 0.6869 - accuracy: 0.7305 - val_loss: 0.4090 - val_accuracy: 0.9462\n",
      "Epoch 45/150\n",
      "12/12 [==============================] - 0s 5ms/step - loss: 0.6784 - accuracy: 0.7089 - val_loss: 0.3901 - val_accuracy: 0.9355\n",
      "Epoch 46/150\n",
      "12/12 [==============================] - 0s 5ms/step - loss: 0.5684 - accuracy: 0.7412 - val_loss: 0.3625 - val_accuracy: 0.9247\n",
      "Epoch 47/150\n",
      "12/12 [==============================] - 0s 5ms/step - loss: 0.5489 - accuracy: 0.7520 - val_loss: 0.3391 - val_accuracy: 0.9355\n",
      "Epoch 48/150\n",
      "12/12 [==============================] - 0s 5ms/step - loss: 0.5663 - accuracy: 0.7655 - val_loss: 0.3381 - val_accuracy: 0.9462\n",
      "Epoch 49/150\n",
      "12/12 [==============================] - 0s 5ms/step - loss: 0.5723 - accuracy: 0.7736 - val_loss: 0.3415 - val_accuracy: 0.9462\n",
      "Epoch 50/150\n",
      "12/12 [==============================] - 0s 5ms/step - loss: 0.5311 - accuracy: 0.7520 - val_loss: 0.3466 - val_accuracy: 0.9570\n",
      "Epoch 51/150\n",
      "12/12 [==============================] - 0s 5ms/step - loss: 0.4554 - accuracy: 0.8005 - val_loss: 0.3248 - val_accuracy: 0.9570\n",
      "Epoch 52/150\n",
      "12/12 [==============================] - 0s 4ms/step - loss: 0.4259 - accuracy: 0.8032 - val_loss: 0.2876 - val_accuracy: 0.9462\n",
      "Epoch 53/150\n",
      "12/12 [==============================] - 0s 5ms/step - loss: 0.5554 - accuracy: 0.7655 - val_loss: 0.2489 - val_accuracy: 0.9677\n",
      "Epoch 54/150\n",
      "12/12 [==============================] - 0s 4ms/step - loss: 0.5295 - accuracy: 0.7871 - val_loss: 0.2070 - val_accuracy: 0.9785\n",
      "Epoch 55/150\n",
      "12/12 [==============================] - 0s 5ms/step - loss: 0.4958 - accuracy: 0.7817 - val_loss: 0.1974 - val_accuracy: 0.9785\n",
      "Epoch 56/150\n",
      "12/12 [==============================] - 0s 5ms/step - loss: 0.5059 - accuracy: 0.7817 - val_loss: 0.2242 - val_accuracy: 0.9677\n",
      "Epoch 57/150\n",
      "12/12 [==============================] - 0s 4ms/step - loss: 0.4686 - accuracy: 0.8167 - val_loss: 0.2215 - val_accuracy: 0.9570\n",
      "Epoch 58/150\n",
      "12/12 [==============================] - 0s 4ms/step - loss: 0.4554 - accuracy: 0.8275 - val_loss: 0.2099 - val_accuracy: 0.9785\n",
      "Epoch 59/150\n",
      "12/12 [==============================] - 0s 5ms/step - loss: 0.4427 - accuracy: 0.7978 - val_loss: 0.2068 - val_accuracy: 0.9677\n",
      "Epoch 60/150\n",
      "12/12 [==============================] - 0s 5ms/step - loss: 0.3849 - accuracy: 0.8221 - val_loss: 0.1970 - val_accuracy: 0.9892\n",
      "Epoch 61/150\n",
      "12/12 [==============================] - 0s 6ms/step - loss: 0.3612 - accuracy: 0.8248 - val_loss: 0.2028 - val_accuracy: 0.9892\n",
      "Epoch 62/150\n",
      "12/12 [==============================] - 0s 6ms/step - loss: 0.3834 - accuracy: 0.8356 - val_loss: 0.1923 - val_accuracy: 0.9892\n",
      "Epoch 63/150\n",
      "12/12 [==============================] - 0s 6ms/step - loss: 0.3932 - accuracy: 0.8167 - val_loss: 0.1673 - val_accuracy: 0.9892\n",
      "Epoch 64/150\n",
      "12/12 [==============================] - 0s 5ms/step - loss: 0.3412 - accuracy: 0.8194 - val_loss: 0.1562 - val_accuracy: 0.9892\n",
      "Epoch 65/150\n",
      "12/12 [==============================] - 0s 5ms/step - loss: 0.3664 - accuracy: 0.8571 - val_loss: 0.1597 - val_accuracy: 0.9892\n",
      "Epoch 66/150\n",
      "12/12 [==============================] - 0s 5ms/step - loss: 0.3497 - accuracy: 0.8491 - val_loss: 0.1540 - val_accuracy: 0.9892\n",
      "Epoch 67/150\n",
      "12/12 [==============================] - 0s 5ms/step - loss: 0.3698 - accuracy: 0.8518 - val_loss: 0.1526 - val_accuracy: 0.9892\n",
      "Epoch 68/150\n",
      "12/12 [==============================] - 0s 5ms/step - loss: 0.3524 - accuracy: 0.8464 - val_loss: 0.1418 - val_accuracy: 0.9892\n",
      "Epoch 69/150\n",
      "12/12 [==============================] - 0s 5ms/step - loss: 0.3625 - accuracy: 0.8491 - val_loss: 0.1401 - val_accuracy: 0.9892\n",
      "Epoch 70/150\n",
      "12/12 [==============================] - 0s 5ms/step - loss: 0.2992 - accuracy: 0.8733 - val_loss: 0.1286 - val_accuracy: 0.9892\n",
      "Epoch 71/150\n",
      "12/12 [==============================] - 0s 5ms/step - loss: 0.3740 - accuracy: 0.8652 - val_loss: 0.1213 - val_accuracy: 0.9785\n",
      "Epoch 72/150\n",
      "12/12 [==============================] - 0s 4ms/step - loss: 0.2926 - accuracy: 0.8544 - val_loss: 0.1049 - val_accuracy: 0.9785\n",
      "Epoch 73/150\n",
      "12/12 [==============================] - 0s 4ms/step - loss: 0.3131 - accuracy: 0.8895 - val_loss: 0.0950 - val_accuracy: 1.0000\n",
      "Epoch 74/150\n",
      "12/12 [==============================] - 0s 5ms/step - loss: 0.2763 - accuracy: 0.8760 - val_loss: 0.0895 - val_accuracy: 1.0000\n",
      "Epoch 75/150\n",
      "12/12 [==============================] - 0s 5ms/step - loss: 0.3508 - accuracy: 0.8652 - val_loss: 0.0850 - val_accuracy: 1.0000\n",
      "Epoch 76/150\n",
      "12/12 [==============================] - 0s 5ms/step - loss: 0.2652 - accuracy: 0.8895 - val_loss: 0.0984 - val_accuracy: 0.9892\n",
      "Epoch 77/150\n",
      "12/12 [==============================] - 0s 6ms/step - loss: 0.2896 - accuracy: 0.8922 - val_loss: 0.0940 - val_accuracy: 1.0000\n",
      "Epoch 78/150\n",
      "12/12 [==============================] - 0s 6ms/step - loss: 0.2666 - accuracy: 0.9164 - val_loss: 0.0919 - val_accuracy: 0.9892\n",
      "Epoch 79/150\n",
      "12/12 [==============================] - 0s 5ms/step - loss: 0.2608 - accuracy: 0.8895 - val_loss: 0.0889 - val_accuracy: 0.9892\n",
      "Epoch 80/150\n",
      "12/12 [==============================] - 0s 5ms/step - loss: 0.2104 - accuracy: 0.9218 - val_loss: 0.0751 - val_accuracy: 1.0000\n",
      "Epoch 81/150\n",
      "12/12 [==============================] - 0s 5ms/step - loss: 0.3316 - accuracy: 0.8706 - val_loss: 0.0682 - val_accuracy: 1.0000\n",
      "Epoch 82/150\n",
      "12/12 [==============================] - 0s 5ms/step - loss: 0.2568 - accuracy: 0.9003 - val_loss: 0.0657 - val_accuracy: 1.0000\n",
      "Epoch 83/150\n",
      "12/12 [==============================] - 0s 5ms/step - loss: 0.2278 - accuracy: 0.8949 - val_loss: 0.0631 - val_accuracy: 0.9892\n",
      "Epoch 84/150\n",
      "12/12 [==============================] - 0s 5ms/step - loss: 0.2427 - accuracy: 0.9164 - val_loss: 0.0607 - val_accuracy: 0.9892\n",
      "Epoch 85/150\n",
      "12/12 [==============================] - 0s 4ms/step - loss: 0.2200 - accuracy: 0.9057 - val_loss: 0.0608 - val_accuracy: 0.9892\n",
      "Epoch 86/150\n",
      "12/12 [==============================] - 0s 5ms/step - loss: 0.2476 - accuracy: 0.8868 - val_loss: 0.0570 - val_accuracy: 1.0000\n",
      "Epoch 87/150\n",
      "12/12 [==============================] - 0s 8ms/step - loss: 0.2737 - accuracy: 0.9030 - val_loss: 0.0557 - val_accuracy: 0.9892\n",
      "Epoch 88/150\n",
      "12/12 [==============================] - 0s 6ms/step - loss: 0.2194 - accuracy: 0.9057 - val_loss: 0.0535 - val_accuracy: 1.0000\n",
      "Epoch 89/150\n",
      "12/12 [==============================] - 0s 4ms/step - loss: 0.1806 - accuracy: 0.9299 - val_loss: 0.0495 - val_accuracy: 1.0000\n",
      "Epoch 90/150\n",
      "12/12 [==============================] - 0s 5ms/step - loss: 0.2257 - accuracy: 0.9164 - val_loss: 0.0466 - val_accuracy: 0.9892\n",
      "Epoch 91/150\n",
      "12/12 [==============================] - 0s 5ms/step - loss: 0.1714 - accuracy: 0.9272 - val_loss: 0.0443 - val_accuracy: 0.9892\n",
      "Epoch 92/150\n",
      "12/12 [==============================] - 0s 5ms/step - loss: 0.2180 - accuracy: 0.9111 - val_loss: 0.0438 - val_accuracy: 1.0000\n",
      "Epoch 93/150\n",
      "12/12 [==============================] - 0s 5ms/step - loss: 0.1981 - accuracy: 0.9164 - val_loss: 0.0429 - val_accuracy: 1.0000\n",
      "Epoch 94/150\n",
      "12/12 [==============================] - 0s 5ms/step - loss: 0.2219 - accuracy: 0.9218 - val_loss: 0.0429 - val_accuracy: 1.0000\n",
      "Epoch 95/150\n",
      "12/12 [==============================] - 0s 5ms/step - loss: 0.1925 - accuracy: 0.9272 - val_loss: 0.0419 - val_accuracy: 1.0000\n",
      "Epoch 96/150\n",
      "12/12 [==============================] - 0s 5ms/step - loss: 0.1748 - accuracy: 0.9326 - val_loss: 0.0430 - val_accuracy: 1.0000\n",
      "Epoch 97/150\n",
      "12/12 [==============================] - 0s 5ms/step - loss: 0.1659 - accuracy: 0.9272 - val_loss: 0.0463 - val_accuracy: 0.9892\n",
      "Epoch 98/150\n",
      "12/12 [==============================] - 0s 6ms/step - loss: 0.2125 - accuracy: 0.9299 - val_loss: 0.0405 - val_accuracy: 1.0000\n",
      "Epoch 99/150\n",
      "12/12 [==============================] - 0s 6ms/step - loss: 0.1561 - accuracy: 0.9380 - val_loss: 0.0354 - val_accuracy: 1.0000\n",
      "Epoch 100/150\n",
      "12/12 [==============================] - 0s 5ms/step - loss: 0.1576 - accuracy: 0.9596 - val_loss: 0.0324 - val_accuracy: 1.0000\n",
      "Epoch 101/150\n",
      "12/12 [==============================] - 0s 5ms/step - loss: 0.2215 - accuracy: 0.9245 - val_loss: 0.0324 - val_accuracy: 1.0000\n",
      "Epoch 102/150\n",
      "12/12 [==============================] - 0s 5ms/step - loss: 0.1512 - accuracy: 0.9272 - val_loss: 0.0303 - val_accuracy: 1.0000\n",
      "Epoch 103/150\n",
      "12/12 [==============================] - 0s 5ms/step - loss: 0.1427 - accuracy: 0.9434 - val_loss: 0.0300 - val_accuracy: 1.0000\n",
      "Epoch 104/150\n",
      "12/12 [==============================] - 0s 5ms/step - loss: 0.1621 - accuracy: 0.9299 - val_loss: 0.0307 - val_accuracy: 1.0000\n",
      "Epoch 105/150\n",
      "12/12 [==============================] - 0s 5ms/step - loss: 0.1382 - accuracy: 0.9380 - val_loss: 0.0294 - val_accuracy: 1.0000\n",
      "Epoch 106/150\n",
      "12/12 [==============================] - 0s 5ms/step - loss: 0.1545 - accuracy: 0.9272 - val_loss: 0.0259 - val_accuracy: 1.0000\n",
      "Epoch 107/150\n",
      "12/12 [==============================] - 0s 5ms/step - loss: 0.1246 - accuracy: 0.9569 - val_loss: 0.0260 - val_accuracy: 1.0000\n",
      "Epoch 108/150\n",
      "12/12 [==============================] - 0s 6ms/step - loss: 0.1459 - accuracy: 0.9488 - val_loss: 0.0258 - val_accuracy: 1.0000\n",
      "Epoch 109/150\n",
      "12/12 [==============================] - 0s 6ms/step - loss: 0.1198 - accuracy: 0.9515 - val_loss: 0.0242 - val_accuracy: 1.0000\n",
      "Epoch 110/150\n",
      "12/12 [==============================] - 0s 5ms/step - loss: 0.1396 - accuracy: 0.9326 - val_loss: 0.0232 - val_accuracy: 1.0000\n",
      "Epoch 111/150\n",
      "12/12 [==============================] - 0s 4ms/step - loss: 0.1515 - accuracy: 0.9326 - val_loss: 0.0234 - val_accuracy: 1.0000\n",
      "Epoch 112/150\n",
      "12/12 [==============================] - 0s 4ms/step - loss: 0.1288 - accuracy: 0.9488 - val_loss: 0.0282 - val_accuracy: 1.0000\n",
      "Epoch 113/150\n",
      "12/12 [==============================] - 0s 4ms/step - loss: 0.1201 - accuracy: 0.9569 - val_loss: 0.0306 - val_accuracy: 0.9892\n",
      "Epoch 114/150\n",
      "12/12 [==============================] - 0s 5ms/step - loss: 0.1544 - accuracy: 0.9272 - val_loss: 0.0251 - val_accuracy: 1.0000\n",
      "Epoch 115/150\n",
      "12/12 [==============================] - 0s 5ms/step - loss: 0.1412 - accuracy: 0.9461 - val_loss: 0.0211 - val_accuracy: 1.0000\n",
      "Epoch 116/150\n",
      "12/12 [==============================] - 0s 5ms/step - loss: 0.1310 - accuracy: 0.9434 - val_loss: 0.0177 - val_accuracy: 1.0000\n",
      "Epoch 117/150\n",
      "12/12 [==============================] - 0s 5ms/step - loss: 0.1125 - accuracy: 0.9542 - val_loss: 0.0178 - val_accuracy: 1.0000\n",
      "Epoch 118/150\n",
      "12/12 [==============================] - 0s 6ms/step - loss: 0.1011 - accuracy: 0.9730 - val_loss: 0.0211 - val_accuracy: 1.0000\n",
      "Epoch 119/150\n",
      "12/12 [==============================] - 0s 5ms/step - loss: 0.0876 - accuracy: 0.9730 - val_loss: 0.0184 - val_accuracy: 1.0000\n",
      "Epoch 120/150\n",
      "12/12 [==============================] - 0s 6ms/step - loss: 0.0952 - accuracy: 0.9650 - val_loss: 0.0184 - val_accuracy: 1.0000\n",
      "Epoch 121/150\n",
      "12/12 [==============================] - 0s 5ms/step - loss: 0.1137 - accuracy: 0.9569 - val_loss: 0.0195 - val_accuracy: 1.0000\n",
      "Epoch 122/150\n",
      "12/12 [==============================] - 0s 5ms/step - loss: 0.1175 - accuracy: 0.9326 - val_loss: 0.0142 - val_accuracy: 1.0000\n",
      "Epoch 123/150\n",
      "12/12 [==============================] - 0s 5ms/step - loss: 0.0673 - accuracy: 0.9811 - val_loss: 0.0210 - val_accuracy: 1.0000\n",
      "Epoch 124/150\n",
      "12/12 [==============================] - 0s 5ms/step - loss: 0.1111 - accuracy: 0.9569 - val_loss: 0.0276 - val_accuracy: 0.9892\n",
      "Epoch 125/150\n",
      "12/12 [==============================] - 0s 5ms/step - loss: 0.1279 - accuracy: 0.9650 - val_loss: 0.0148 - val_accuracy: 1.0000\n",
      "Epoch 126/150\n",
      "12/12 [==============================] - 0s 5ms/step - loss: 0.1011 - accuracy: 0.9650 - val_loss: 0.0107 - val_accuracy: 1.0000\n",
      "Epoch 127/150\n",
      "12/12 [==============================] - 0s 4ms/step - loss: 0.0829 - accuracy: 0.9677 - val_loss: 0.0150 - val_accuracy: 1.0000\n",
      "Epoch 128/150\n",
      "12/12 [==============================] - 0s 5ms/step - loss: 0.0983 - accuracy: 0.9704 - val_loss: 0.0158 - val_accuracy: 1.0000\n",
      "Epoch 129/150\n",
      "12/12 [==============================] - 0s 6ms/step - loss: 0.0979 - accuracy: 0.9730 - val_loss: 0.0101 - val_accuracy: 1.0000\n",
      "Epoch 130/150\n",
      "12/12 [==============================] - 0s 5ms/step - loss: 0.0914 - accuracy: 0.9650 - val_loss: 0.0087 - val_accuracy: 1.0000\n",
      "Epoch 131/150\n",
      "12/12 [==============================] - 0s 5ms/step - loss: 0.0893 - accuracy: 0.9596 - val_loss: 0.0074 - val_accuracy: 1.0000\n",
      "Epoch 132/150\n",
      "12/12 [==============================] - 0s 5ms/step - loss: 0.1414 - accuracy: 0.9488 - val_loss: 0.0101 - val_accuracy: 1.0000\n",
      "Epoch 133/150\n",
      "12/12 [==============================] - 0s 5ms/step - loss: 0.0776 - accuracy: 0.9704 - val_loss: 0.0165 - val_accuracy: 1.0000\n",
      "Epoch 134/150\n",
      "12/12 [==============================] - 0s 5ms/step - loss: 0.1213 - accuracy: 0.9596 - val_loss: 0.0110 - val_accuracy: 1.0000\n",
      "Epoch 135/150\n",
      "12/12 [==============================] - 0s 4ms/step - loss: 0.0915 - accuracy: 0.9730 - val_loss: 0.0099 - val_accuracy: 1.0000\n",
      "Epoch 136/150\n",
      "12/12 [==============================] - 0s 4ms/step - loss: 0.0762 - accuracy: 0.9730 - val_loss: 0.0124 - val_accuracy: 1.0000\n",
      "Epoch 137/150\n",
      "12/12 [==============================] - 0s 4ms/step - loss: 0.0595 - accuracy: 0.9757 - val_loss: 0.0129 - val_accuracy: 1.0000\n",
      "Epoch 138/150\n",
      "12/12 [==============================] - 0s 4ms/step - loss: 0.0861 - accuracy: 0.9677 - val_loss: 0.0106 - val_accuracy: 1.0000\n",
      "Epoch 139/150\n",
      "12/12 [==============================] - 0s 5ms/step - loss: 0.1011 - accuracy: 0.9730 - val_loss: 0.0073 - val_accuracy: 1.0000\n",
      "Epoch 140/150\n",
      "12/12 [==============================] - 0s 5ms/step - loss: 0.0987 - accuracy: 0.9515 - val_loss: 0.0058 - val_accuracy: 1.0000\n",
      "Epoch 141/150\n",
      "12/12 [==============================] - 0s 5ms/step - loss: 0.0930 - accuracy: 0.9623 - val_loss: 0.0090 - val_accuracy: 1.0000\n",
      "Epoch 142/150\n",
      "12/12 [==============================] - 0s 4ms/step - loss: 0.0843 - accuracy: 0.9677 - val_loss: 0.0073 - val_accuracy: 1.0000\n",
      "Epoch 143/150\n",
      "12/12 [==============================] - 0s 4ms/step - loss: 0.0908 - accuracy: 0.9677 - val_loss: 0.0059 - val_accuracy: 1.0000\n",
      "Epoch 144/150\n",
      "12/12 [==============================] - 0s 4ms/step - loss: 0.0562 - accuracy: 0.9811 - val_loss: 0.0063 - val_accuracy: 1.0000\n",
      "Epoch 145/150\n",
      "12/12 [==============================] - 0s 6ms/step - loss: 0.0420 - accuracy: 0.9865 - val_loss: 0.0061 - val_accuracy: 1.0000\n",
      "Epoch 146/150\n",
      "12/12 [==============================] - 0s 6ms/step - loss: 0.0678 - accuracy: 0.9757 - val_loss: 0.0060 - val_accuracy: 1.0000\n",
      "Epoch 147/150\n",
      "12/12 [==============================] - 0s 7ms/step - loss: 0.0652 - accuracy: 0.9730 - val_loss: 0.0074 - val_accuracy: 1.0000\n",
      "Epoch 148/150\n",
      "12/12 [==============================] - 0s 6ms/step - loss: 0.0721 - accuracy: 0.9784 - val_loss: 0.0096 - val_accuracy: 1.0000\n",
      "Epoch 149/150\n",
      "12/12 [==============================] - 0s 6ms/step - loss: 0.0822 - accuracy: 0.9730 - val_loss: 0.0081 - val_accuracy: 1.0000\n",
      "Epoch 150/150\n",
      "12/12 [==============================] - 0s 6ms/step - loss: 0.0593 - accuracy: 0.9784 - val_loss: 0.0056 - val_accuracy: 1.0000\n",
      "Training completed in time:  0:00:11.025291\n"
     ]
    }
   ],
   "source": [
    "num_epochs = 150\n",
    "num_batch_size = 32\n",
    "\n",
    "#checkpointer = ModelCheckpoint(filepath='audio_classification_checkpoint.hdf5',verbose=1, save_best_only=True)\n",
    "start=datetime.now()\n",
    "\n",
    "model.fit(X_train, y_train, batch_size=num_batch_size, epochs=num_epochs, validation_data=(X_test, y_test))#, callbacks=[checkpointer])\n",
    "\n",
    "duration = datetime.now()-start\n",
    "print(\"Training completed in time: \",duration)"
   ]
  },
  {
   "cell_type": "markdown",
   "id": "60b0461a-93db-4890-9c72-d2f6f5847f67",
   "metadata": {},
   "source": [
    "# Model Evaluation"
   ]
  },
  {
   "cell_type": "markdown",
   "id": "9e65bb20-ab30-4c1c-ba20-332165b47db5",
   "metadata": {},
   "source": [
    "#### Of Unseen Data"
   ]
  },
  {
   "cell_type": "code",
   "execution_count": 21,
   "id": "0f7f3f72-fef3-4b24-9ae4-a74cc1ed56da",
   "metadata": {},
   "outputs": [
    {
     "name": "stdout",
     "output_type": "stream",
     "text": [
      "Test Accuracy: 1.0\n"
     ]
    }
   ],
   "source": [
    "# Evaluating our model on the unseen data that we stored above\n",
    "test_loss, test_accuracy = model.evaluate(X_test_original, y_test_original, verbose=0)\n",
    "print(f\"Test Accuracy: {test_accuracy}\")"
   ]
  },
  {
   "cell_type": "code",
   "execution_count": 22,
   "id": "539554a1-7348-4af5-8d45-5cfb3b5def68",
   "metadata": {},
   "outputs": [
    {
     "name": "stdout",
     "output_type": "stream",
     "text": [
      "3/3 [==============================] - 0s 3ms/step\n"
     ]
    },
    {
     "data": {
      "image/png": "[encoded data removed]",
      "text/plain": [
       "<Figure size 640x480 with 2 Axes>"
      ]
     },
     "metadata": {},
     "output_type": "display_data"
    }
   ],
   "source": [
    "from sklearn.metrics import confusion_matrix, ConfusionMatrixDisplay\n",
    "import matplotlib.pyplot as plt\n",
    "\n",
    "# Get predictions from the model\n",
    "y_pred_test = model.predict(X_test_original)\n",
    "y_pred_binary = (y_pred_test > 0.5).astype(int)  # Convert probabilities to binary predictions (0 or 1)\n",
    "\n",
    "# Calculate confusion matrix\n",
    "cm = confusion_matrix(y_test_original, y_pred_binary)\n",
    "\n",
    "# Display the confusion matrix\n",
    "disp = ConfusionMatrixDisplay(confusion_matrix=cm, display_labels=['Healthy', 'Stimmlippenkarzinom'])\n",
    "disp.plot(cmap=plt.cm.Blues)\n",
    "plt.title('Confusion Matrix(Test(Unseen) Set)')\n",
    "plt.show()"
   ]
  },
  {
   "cell_type": "markdown",
   "id": "2eee1e94-31c3-49d0-ac93-274d603a85ec",
   "metadata": {},
   "source": [
    "#### Of Training Data"
   ]
  },
  {
   "cell_type": "code",
   "execution_count": 23,
   "id": "2ea79733-ef67-4c1f-8304-c46e489443e8",
   "metadata": {},
   "outputs": [
    {
     "name": "stdout",
     "output_type": "stream",
     "text": [
      "Train Accuracy:  0.9973045587539673\n"
     ]
    }
   ],
   "source": [
    "# Evaluating our model on the train data\n",
    "train_loss, train_accuracy = model.evaluate(X_train, y_train, verbose=0)\n",
    "print(\"Train Accuracy: \",train_accuracy)"
   ]
  },
  {
   "cell_type": "code",
   "execution_count": 24,
   "id": "68bc2d94-f59b-4cc2-bd5a-07b826357364",
   "metadata": {},
   "outputs": [
    {
     "name": "stdout",
     "output_type": "stream",
     "text": [
      "12/12 [==============================] - 0s 1ms/step\n"
     ]
    },
    {
     "data": {
      "image/png": "[encoded data removed]",
      "text/plain": [
       "<Figure size 640x480 with 2 Axes>"
      ]
     },
     "metadata": {},
     "output_type": "display_data"
    }
   ],
   "source": [
    "# Get predictions from the model\n",
    "y_pred_train = model.predict(X_train)\n",
    "y_pred_binary = (y_pred_train > 0.5).astype(int)  # Convert probabilities to binary predictions (0 or 1)\n",
    "\n",
    "# Calculate confusion matrix\n",
    "cm = confusion_matrix(y_train, y_pred_binary)\n",
    "\n",
    "# Display the confusion matrix\n",
    "disp = ConfusionMatrixDisplay(confusion_matrix=cm, display_labels=['Healthy', 'Stimmlippenkarzinom'])\n",
    "disp.plot(cmap=plt.cm.Blues)\n",
    "plt.title('Confusion Matrix(Training Set)')\n",
    "plt.show()"
   ]
  },
  {
   "cell_type": "code",
   "execution_count": null,
   "id": "8ed880ae-7c9f-4c60-8bc0-fcd452cfd88d",
   "metadata": {},
   "outputs": [],
   "source": []
  }
 ],
 "metadata": {
  "kernelspec": {
   "display_name": "Python 3 (ipykernel)",
   "language": "python",
   "name": "python3"
  },
  "language_info": {
   "codemirror_mode": {
    "name": "ipython",
    "version": 3
   },
   "file_extension": ".py",
   "mimetype": "text/x-python",
   "name": "python",
   "nbconvert_exporter": "python",
   "pygments_lexer": "ipython3",
   "version": "3.11.5"
  }
 },
 "nbformat": 4,
 "nbformat_minor": 5
}
